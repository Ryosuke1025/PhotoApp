{
 "cells": [
  {
   "cell_type": "markdown",
   "metadata": {},
   "source": [
    "<div style=\"text-align: center;\">\n",
    "   <font size=\"5\"> 2021年度　数式処理演習　pair試験問題 </font>\n",
    "</div>\n",
    "   <div style=\"text-align: right;\">\n",
    "   <font size=\"3\"> cc by Shigeto R. Nishitani, 2021/12/2実施 </font>\n",
    "</div>\n",
    "\n",
    "* file: ~/symbolic_math/exams/21_pair_ans.ipynb\n",
    "\n",
    "以下の問題をpythonで解き，LUNAへ提出せよ．LUNAへはipynbとpdf形式の２種類を提出すること．"
   ]
  },
  {
   "cell_type": "markdown",
   "metadata": {},
   "source": [
    "# 1微積分\n",
    "## 1(a) 関数の概形(15点)\n",
    "\n",
    "（テキストp.216の図6.6の確認)\n",
    "\n",
    "直線$y=-2x+4$が, シグモイド関数\n",
    "    \\begin{equation*}\n",
    "      \\sigma(x) = \\frac{1}{1+e^{-x}}\n",
    "    \\end{equation*}\n",
    "を通す($y=\\sigma(-2x+4)$）ことによって0と1の範囲に潰されることを確認せよ．\n",
    "\n",
    "sympyのplotに対してy軸の表示範囲は，オプション\n",
    "``` python\n",
    "ylim=(-1,2)\n",
    "```\n",
    "をつけることで指定できる．"
   ]
  },
  {
   "cell_type": "markdown",
   "metadata": {},
   "source": [
    "## 1(b) シグモイド関数(15点)\n",
    "\n",
    "（テキストp.131の4-118式の確認)\n",
    "\n",
    "シグモイド関数\n",
    "    \\begin{equation*}\n",
    "      \\sigma(x) = \\frac{1}{1+e^{-x}}\n",
    "    \\end{equation*}\n",
    "  の増減，極値，凹凸を調べ，曲線$y=\\sigma(x)$の概形を描け．\n",
    "  シグモイド関数の微分が\n",
    "    \\begin{equation*}\n",
    "      \\sigma(x)(1-\\sigma(x))\n",
    "    \\end{equation*}\n",
    "に一致することを確かめよ．両者を同時にプロットすることでも確かめられる．\n",
    "ただし，曲線は重なるので，どちらかをy軸方向に0.01程度ずらして表示すること．"
   ]
  },
  {
   "cell_type": "markdown",
   "metadata": {},
   "source": [
    "# 2 線形代数\n",
    "## 2(a) 転置(15点)\n",
    "\n",
    "(テキストp.115, 4-94式の確認）\n",
    "\n",
    "$$A=\\left(\n",
    "\\begin{array}{@{\\,}ccc@{\\,}}\n",
    "1 & 2 & 3\\\\\n",
    "4 & 5 & 6 \\end{array}\n",
    "\\right)$$\n",
    "$$\n",
    "B = A^{\\rm T}\n",
    "$$\n",
    "に対して，公式\n",
    "$$\n",
    "（AB)^{\\rm T} = B^{\\rm T} A^{\\rm T}\n",
    "$$\n",
    "が成り立つことを確かめよ．"
   ]
  },
  {
   "cell_type": "code",
   "execution_count": 29,
   "metadata": {},
   "outputs": [
    {
     "name": "stdout",
     "output_type": "stream",
     "text": [
      "成立する\n"
     ]
    }
   ],
   "source": [
    "from sympy import *\n",
    "init_printing()\n",
    "\n",
    "A = Matrix([[1,2,3],\n",
    "            [4,5,6]])\n",
    "B = A.T\n",
    "\n",
    "if((A*B).T == B.T * A.T):\n",
    "    print(\"成立する\")\n",
    "\n"
   ]
  },
  {
   "cell_type": "markdown",
   "metadata": {},
   "source": [
    "## 2(b) (15点)\n",
    "\n",
    "  次の行列$A$の固有値とそれに対する固有ベクトルを求めよ．\n",
    "  \\begin{equation*}\n",
    "   A =  \\left(\n",
    "    \\begin{matrix}\n",
    "      -2 & -3 & 3\\\\\n",
    "      1 & 2 & -3\\\\\n",
    "      1 & 1 & -2\n",
    "    \\end{matrix}\n",
    "    \\right)\n",
    "  \\end{equation*}\n",
    "  それぞれの固有値（$\\lambda_i$），固有空間($x_i$)に対して，\n",
    "  $$\n",
    "  A x_i = \\lambda_i x_i\n",
    "  $$\n",
    "  が成立することを確かめよ．"
   ]
  },
  {
   "cell_type": "code",
   "execution_count": 27,
   "metadata": {},
   "outputs": [
    {
     "data": {
      "image/png": "[encoded data removed]",
      "text/latex": [
       "$\\displaystyle \\left\\{ -2 : 1, \\  -1 : 1, \\  1 : 1\\right\\}$"
      ],
      "text/plain": [
       "{-2: 1, -1: 1, 1: 1}"
      ]
     },
     "execution_count": 27,
     "metadata": {},
     "output_type": "execute_result"
    },
    {
     "data": {
      "text/latex": [
       "$\\displaystyle \\left[ \\left( -2, \\  1, \\  \\left[ \\left[\\begin{matrix}-1\\\\1\\\\1\\end{matrix}\\right]\\right]\\right), \\  \\left( -1, \\  1, \\  \\left[ \\left[\\begin{matrix}0\\\\1\\\\1\\end{matrix}\\right]\\right]\\right), \\  \\left( 1, \\  1, \\  \\left[ \\left[\\begin{matrix}-1\\\\1\\\\0\\end{matrix}\\right]\\right]\\right)\\right]$"
      ],
      "text/plain": [
       "⎡⎛       ⎡⎡-1⎤⎤⎞  ⎛       ⎡⎡0⎤⎤⎞  ⎛      ⎡⎡-1⎤⎤⎞⎤\n",
       "⎢⎜       ⎢⎢  ⎥⎥⎟  ⎜       ⎢⎢ ⎥⎥⎟  ⎜      ⎢⎢  ⎥⎥⎟⎥\n",
       "⎢⎜-2, 1, ⎢⎢1 ⎥⎥⎟, ⎜-1, 1, ⎢⎢1⎥⎥⎟, ⎜1, 1, ⎢⎢1 ⎥⎥⎟⎥\n",
       "⎢⎜       ⎢⎢  ⎥⎥⎟  ⎜       ⎢⎢ ⎥⎥⎟  ⎜      ⎢⎢  ⎥⎥⎟⎥\n",
       "⎣⎝       ⎣⎣1 ⎦⎦⎠  ⎝       ⎣⎣1⎦⎦⎠  ⎝      ⎣⎣0 ⎦⎦⎠⎦"
      ]
     },
     "execution_count": 27,
     "metadata": {},
     "output_type": "execute_result"
    },
    {
     "name": "stdout",
     "output_type": "stream",
     "text": [
      "i = 0 の時,成立\n",
      "i = 1 の時,成立\n",
      "i = 2 の時,成立\n"
     ]
    }
   ],
   "source": [
    "init_printing()\n",
    "A = Matrix([[-2, -3, 3],\n",
    "            [1, 2, -3],\n",
    "            [1, 1, -2]])\n",
    "# 固有値\n",
    "A.eigenvals() \n",
    "# 固有値λi\n",
    "λ = [-2, -1, 1]\n",
    "# 固有ベクトル\n",
    "A.eigenvects() \n",
    "#固有空間Xi\n",
    "X = [Matrix([[-1],[1],[1]]),Matrix([[0],[1],[1]]),Matrix([[-1],[1],[0]])]\n",
    "\n",
    "for i in range(len(λ)):\n",
    "    if(A * X[i] == λ[i] *X[i]):\n",
    "        print(\"i = %d の時,成立\"%i)\n",
    "    \n"
   ]
  },
  {
   "cell_type": "markdown",
   "metadata": {},
   "source": [
    "# 3 センター試験原題(20点)\n",
    "(2019大学入試センター試験　数学II・B 第2問(1),(2))\n",
    "\n",
    "$p, q$ を実数とし，\n",
    "関数$f(x)=x^3 + p x^2 +qx$ は$x=-1$で極値2を取るとする．\n",
    "また，座標平面上の曲線$y=f(x)$を$C$,放物線$y=-kx^2$ を$D$,\n",
    "放物線$D$上の点$(a, -ka^2)$をAとする．\n",
    "ただし，　$k \\gt 0, a\\gt0$である．\n",
    "\n",
    "(1) 関数$f(x)$が$x=-1$で極値をとるので，\n",
    "$f'(-1) = \\fbox{ ア }$である．\n",
    "これと$f(-1)=2$より，　$p=\\fbox{ イ }\\,, q={ \\fbox{ ウエ }}$である．\n",
    "よって$f(x)$は$x= \\fbox{ オ }$で極小値$ \\fbox{ カキ }$をとる．\n"
   ]
  },
  {
   "cell_type": "markdown",
   "metadata": {},
   "source": [
    "(2) 点Aにおける放物線$D$の接線を$l$とする．\n",
    "$D$と$l$および$x$軸で囲まれた図形の面積$S$を\n",
    "$a$と$k$を用いて表そう．\n",
    "\n",
    "$l$の方程式は\n",
    "\\begin{equation*}\n",
    "  y = \\fbox{ クケ }\\,kax + \\,ka^{ \\fbox{ コ }}　... (1)\n",
    "\\end{equation*}\n",
    "と表せる．\n",
    "$l$と$x$軸の交点の$x$座標は\n",
    "$\\frac{\\fbox{ サ }}{\\fbox{ シ }}$であり，\n",
    "$D$と$x$軸および\n",
    "直線$x=a$で囲まれた図形の面積は\n",
    "$\\frac{k}{\\fbox{ ス }}a^{\\fbox{ セ }}$である．\n",
    "よって，$S=\\frac{k}{\\fbox{ ソタ }} a^{\\fbox{ セ }}$である．"
   ]
  },
  {
   "cell_type": "markdown",
   "metadata": {},
   "source": [
    "# 4 数値改変(20点)\n",
    "\n",
    "大問3.において，関数$f(x)$が$x=-0.9$で極値2をとるとして問3(a)を解きなさい．\n",
    "  問3(b)は変わらないので，解く必要ありません．\n",
    "  極小値は$−3.66567655334305$ぐらいである．\n",
    "  さらに，これらの値を用いて，(x,-2,2)で曲線$C, D$を同時にプロットしなさい．\n"
   ]
  }
 ],
 "metadata": {
  "interpreter": {
   "hash": "b0fa6594d8f4cbf19f97940f81e996739fb7646882a419484c72d19e05852a7e"
  },
  "kernelspec": {
   "display_name": "Python 3 (ipykernel)",
   "language": "python",
   "name": "python3"
  },
  "language_info": {
   "codemirror_mode": {
    "name": "ipython",
    "version": 3
   },
   "file_extension": ".py",
   "mimetype": "text/x-python",
   "name": "python",
   "nbconvert_exporter": "python",
   "pygments_lexer": "ipython3",
   "version": "3.9.13"
  },
  "latex_envs": {
   "LaTeX_envs_menu_present": true,
   "autocomplete": true,
   "bibliofile": "biblio.bib",
   "cite_by": "apalike",
   "current_citInitial": 1,
   "eqLabelWithNumbers": true,
   "eqNumInitial": 1,
   "hotkeys": {
    "equation": "Ctrl-E",
    "itemize": "Ctrl-I"
   },
   "labels_anchors": false,
   "latex_user_defs": false,
   "report_style_numbering": false,
   "user_envs_cfg": false
  },
  "toc": {
   "base_numbering": 1,
   "nav_menu": {
    "height": "12.666666984558105px",
    "width": "252.6666717529297px"
   },
   "number_sections": true,
   "sideBar": true,
   "skip_h1_title": false,
   "title_cell": "Table of Contents",
   "title_sidebar": "Contents",
   "toc_cell": true,
   "toc_position": {
    "height": "538.3287963867188px",
    "left": "0px",
    "right": "1189.3333740234375px",
    "top": "60.801631927490234px",
    "width": "295.28533935546875px"
   },
   "toc_section_display": "block",
   "toc_window_display": true
  }
 },
 "nbformat": 4,
 "nbformat_minor": 2
}
